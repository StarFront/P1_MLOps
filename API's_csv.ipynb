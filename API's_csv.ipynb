{
 "cells": [
  {
   "cell_type": "code",
   "execution_count": 1,
   "metadata": {},
   "outputs": [],
   "source": [
    "import pandas as pd\n",
    "import numpy as np\n",
    "from collections import defaultdict"
   ]
  },
  {
   "cell_type": "code",
   "execution_count": 2,
   "metadata": {},
   "outputs": [],
   "source": [
    "df_items=pd.read_csv('df_items_limpio.csv')\n",
    "df_reviews=pd.read_csv('df_reviews_limpio.csv')\n",
    "df_games=pd.read_csv('df_games_limpio.csv')"
   ]
  },
  {
   "cell_type": "markdown",
   "metadata": {},
   "source": [
    "### UserData"
   ]
  },
  {
   "cell_type": "code",
   "execution_count": null,
   "metadata": {},
   "outputs": [],
   "source": [
    "df_reviews"
   ]
  },
  {
   "cell_type": "code",
   "execution_count": null,
   "metadata": {},
   "outputs": [],
   "source": [
    "df_items_count = df_items.groupby('user_id')['items_count'].mean().reset_index()\n",
    "df_items_count.sort_values(by=items)"
   ]
  },
  {
   "cell_type": "code",
   "execution_count": null,
   "metadata": {},
   "outputs": [],
   "source": [
    "df_items"
   ]
  },
  {
   "cell_type": "code",
   "execution_count": null,
   "metadata": {},
   "outputs": [],
   "source": [
    "result=df_reviews[['user_id','recommend']]\n",
    "df_user_recommend_ratio = result.groupby('user_id')['recommend'].mean().round(2).reset_index()\n",
    "df_user_recommend_ratio.head(2)"
   ]
  },
  {
   "cell_type": "code",
   "execution_count": 7,
   "metadata": {},
   "outputs": [],
   "source": [
    "df_usuarios_items = df_items.groupby('user_id')['item_id'].apply(list).reset_index()"
   ]
  },
  {
   "cell_type": "code",
   "execution_count": null,
   "metadata": {},
   "outputs": [],
   "source": [
    "df_usuarios_items.head(2)"
   ]
  },
  {
   "cell_type": "code",
   "execution_count": 9,
   "metadata": {},
   "outputs": [],
   "source": [
    "df_usuarios_items.to_csv('itemsforuser.csv', index=False)"
   ]
  },
  {
   "cell_type": "code",
   "execution_count": 126,
   "metadata": {},
   "outputs": [],
   "source": [
    "\n",
    "game_id_to_price = df_games.set_index('id')['price'].to_dict() \n",
    "\n",
    "df_usuarios_items['total_spent'] = df_usuarios_items['item_id'].apply(lambda items: sum(game_id_to_price.get(item, 0) for item in items))\n",
    "\n",
    "\n"
   ]
  },
  {
   "cell_type": "code",
   "execution_count": null,
   "metadata": {},
   "outputs": [],
   "source": [
    "df_gasto=df_usuarios_items.drop('item_id', axis=1)\n",
    "df_gasto.head(2)"
   ]
  },
  {
   "cell_type": "code",
   "execution_count": 128,
   "metadata": {},
   "outputs": [],
   "source": [
    "lista=[df_gasto, df_user_recommend_ratio]\n",
    "temp=df_items_count\n",
    "for i in range(len(lista)):\n",
    "    df_user_data= pd.merge(temp,lista[i], on='user_id', how='outer')\n",
    "    temp=df_user_data\n",
    "        "
   ]
  },
  {
   "cell_type": "code",
   "execution_count": null,
   "metadata": {},
   "outputs": [],
   "source": [
    "df_user_data.head(2)\n",
    "df_user_data.loc[:, 'recommend'] = df_user_data['recommend'] * 100\n",
    "df_user_data.rename(columns={'recommend': 'recommend_ratio'})"
   ]
  },
  {
   "cell_type": "code",
   "execution_count": 130,
   "metadata": {},
   "outputs": [],
   "source": [
    "df_user_data.to_csv('df_user_data.csv', index=False)"
   ]
  },
  {
   "cell_type": "markdown",
   "metadata": {},
   "source": [
    "### User Data Función\n"
   ]
  },
  {
   "cell_type": "code",
   "execution_count": 15,
   "metadata": {},
   "outputs": [],
   "source": [
    "df_user_data=pd.read_csv('df_user_data.csv')"
   ]
  },
  {
   "cell_type": "code",
   "execution_count": 32,
   "metadata": {},
   "outputs": [],
   "source": [
    "def userdata(user_id):\n",
    "    df = df_user_data.loc[df_user_data['user_id'] == f'{user_id}']\n",
    "    #df.loc[:, 'recommend'] = df['recommend']\n",
    "    df=df.rename(columns={'recommend': 'porcentaje de recomendacion',\n",
    "                 'items_count': 'total items', 'total_spent':'total gastado'})\n",
    "\n",
    "    return df\n",
    "    "
   ]
  },
  {
   "cell_type": "code",
   "execution_count": null,
   "metadata": {},
   "outputs": [],
   "source": [
    "xd=userdata('--000--')\n",
    "xd"
   ]
  },
  {
   "cell_type": "markdown",
   "metadata": {},
   "source": [
    "### Countreviews\n"
   ]
  },
  {
   "cell_type": "code",
   "execution_count": null,
   "metadata": {},
   "outputs": [],
   "source": [
    "df_reviews.head(2)"
   ]
  },
  {
   "cell_type": "code",
   "execution_count": null,
   "metadata": {},
   "outputs": [],
   "source": [
    "df_count_reviews=df_reviews[['user_id','date']]\n",
    "df_count_reviews = df_count_reviews.merge(df_user_recommend_ratio, on='user_id', how='left')\n",
    "df_count_reviews=df_count_reviews.dropna(subset='date')\n",
    "df_count_reviews.head(2)"
   ]
  },
  {
   "cell_type": "code",
   "execution_count": 146,
   "metadata": {},
   "outputs": [],
   "source": [
    "df_count_reviews.to_csv('df_count_reviews.csv', index=False)"
   ]
  },
  {
   "cell_type": "markdown",
   "metadata": {},
   "source": [
    "### Countreviews\n"
   ]
  },
  {
   "cell_type": "code",
   "execution_count": 12,
   "metadata": {},
   "outputs": [],
   "source": [
    "df_count_reviews=pd.read_csv('df_count_reviews.csv')"
   ]
  },
  {
   "cell_type": "code",
   "execution_count": 13,
   "metadata": {},
   "outputs": [],
   "source": [
    "def countreviews(fecha_inicio,fecha_fin):\n",
    "    df_count_reviews['date'] = pd.to_datetime(df_count_reviews['date'])\n",
    "    fecha_inicio = pd.to_datetime(fecha_inicio)\n",
    "    fecha_fin = pd.to_datetime(fecha_fin)\n",
    "\n",
    "    # Filtrar el DataFrame para el rango de fechas deseado\n",
    "    df_rango = df_count_reviews[(df_count_reviews['date'] >= fecha_inicio) & (df_count_reviews['date'] <= fecha_fin)]\n",
    "    return [len(df_rango['user_id'].unique()) ,df_rango['recommend'].mean()*100]"
   ]
  },
  {
   "cell_type": "code",
   "execution_count": null,
   "metadata": {},
   "outputs": [],
   "source": [
    "df_rango=countreviews('2012-07-15','2013-07-15')\n",
    "df_rango"
   ]
  },
  {
   "cell_type": "markdown",
   "metadata": {},
   "source": [
    "### Género"
   ]
  },
  {
   "cell_type": "code",
   "execution_count": null,
   "metadata": {},
   "outputs": [],
   "source": [
    "df_games.head(2)"
   ]
  },
  {
   "cell_type": "code",
   "execution_count": null,
   "metadata": {},
   "outputs": [],
   "source": [
    "id_to_genre = df_games.dropna(subset='genres').set_index('id')['genres'].to_dict()\n"
   ]
  },
  {
   "cell_type": "code",
   "execution_count": 153,
   "metadata": {},
   "outputs": [],
   "source": [
    "def get_all_genres(id_list):\n",
    "    return id_to_genre.get(id_list,[])"
   ]
  },
  {
   "cell_type": "code",
   "execution_count": 154,
   "metadata": {},
   "outputs": [],
   "source": [
    "df_items['game_genre']=df_items['item_id'].apply(get_all_genres)"
   ]
  },
  {
   "cell_type": "code",
   "execution_count": null,
   "metadata": {},
   "outputs": [],
   "source": [
    "df_items.sample(2)"
   ]
  },
  {
   "cell_type": "code",
   "execution_count": 156,
   "metadata": {},
   "outputs": [],
   "source": [
    "user_genre_playtime=defaultdict(int)\n",
    "for index, row in df_items.iterrows():\n",
    "    user=row['user_id']\n",
    "    game=row['item_id']\n",
    "    playtime=row['playtime_forever']\n",
    "    genres =eval(id_to_genre.get(game, '[]'))  # Obtener los géneros del juego\n",
    "    for genre in genres:\n",
    "        user_genre = (user, genre)\n",
    "        user_genre_playtime[user_genre] += playtime\n",
    "    "
   ]
  },
  {
   "cell_type": "code",
   "execution_count": null,
   "metadata": {},
   "outputs": [],
   "source": [
    "user_genre_df = pd.DataFrame(user_genre_playtime.items(), columns=['user_genre', 'playtime'])\n",
    "user_genre_df.head(10) "
   ]
  },
  {
   "cell_type": "code",
   "execution_count": null,
   "metadata": {},
   "outputs": [],
   "source": [
    "user_genre_df[['user_id', 'game_genre']] = pd.DataFrame(user_genre_df['user_genre'].tolist(), index=user_genre_df.index)\n",
    "\n",
    "df_user_genre=user_genre_df.drop(columns='user_genre')\n",
    "df_user_genre.head(10)"
   ]
  },
  {
   "cell_type": "code",
   "execution_count": null,
   "metadata": {},
   "outputs": [],
   "source": [
    "df_user_genre = df_user_genre.merge(df_items[['user_id','user_url']], on='user_id', how='left')\n",
    "df_user_genre.sample(n=2)"
   ]
  },
  {
   "cell_type": "code",
   "execution_count": 160,
   "metadata": {},
   "outputs": [],
   "source": [
    "df_user_genre=df_user_genre.drop_duplicates()"
   ]
  },
  {
   "cell_type": "code",
   "execution_count": 161,
   "metadata": {},
   "outputs": [],
   "source": [
    "df_user_genre.to_csv('users_playtime_genre.csv', index=False)"
   ]
  },
  {
   "cell_type": "markdown",
   "metadata": {},
   "source": [
    "# creacion de funcion genre"
   ]
  },
  {
   "cell_type": "code",
   "execution_count": 3,
   "metadata": {},
   "outputs": [],
   "source": [
    "df_user_genre=pd.read_csv('users_playtime_genre.csv')"
   ]
  },
  {
   "cell_type": "code",
   "execution_count": 10,
   "metadata": {},
   "outputs": [],
   "source": [
    "def genre(genero:str):\n",
    "    df=df_user_genre.groupby('game_genre')['playtime'].sum().reset_index()\n",
    "    df=df.sort_values('playtime', ascending=False).reset_index().drop(columns='index')\n",
    "    position = df[df['game_genre'] == genero].index[0] + 1 if genero in df['game_genre'].values else None\n",
    "    position=str(position)\n",
    "    return position"
   ]
  },
  {
   "cell_type": "markdown",
   "metadata": {},
   "source": [
    "# creacion de la funcion userforgenre"
   ]
  },
  {
   "cell_type": "code",
   "execution_count": 165,
   "metadata": {},
   "outputs": [],
   "source": [
    "def userforgenre( genero : str ):\n",
    "    df = df_user_genre.loc[df_user_genre['game_genre'] == f'{genero}'].sort_values('playtime', ascending=False).reset_index().drop(columns='index')\n",
    "    return df[['user_id','user_url', 'playtime']].head(5)\n",
    "    "
   ]
  },
  {
   "cell_type": "markdown",
   "metadata": {},
   "source": [
    "# DEVELOPER csv"
   ]
  },
  {
   "cell_type": "code",
   "execution_count": 168,
   "metadata": {},
   "outputs": [
    {
     "data": {
      "text/html": [
       "<div>\n",
       "<style scoped>\n",
       "    .dataframe tbody tr th:only-of-type {\n",
       "        vertical-align: middle;\n",
       "    }\n",
       "\n",
       "    .dataframe tbody tr th {\n",
       "        vertical-align: top;\n",
       "    }\n",
       "\n",
       "    .dataframe thead th {\n",
       "        text-align: right;\n",
       "    }\n",
       "</style>\n",
       "<table border=\"1\" class=\"dataframe\">\n",
       "  <thead>\n",
       "    <tr style=\"text-align: right;\">\n",
       "      <th></th>\n",
       "      <th>developer</th>\n",
       "      <th>app_name</th>\n",
       "      <th>price</th>\n",
       "      <th>release_date</th>\n",
       "    </tr>\n",
       "  </thead>\n",
       "  <tbody>\n",
       "    <tr>\n",
       "      <th>7273</th>\n",
       "      <td>pinokl games</td>\n",
       "      <td>party hard - dark castle</td>\n",
       "      <td>0.00</td>\n",
       "      <td>2016-09-16</td>\n",
       "    </tr>\n",
       "    <tr>\n",
       "      <th>11876</th>\n",
       "      <td>boogygames studios</td>\n",
       "      <td>frontiers.io</td>\n",
       "      <td>0.99</td>\n",
       "      <td>2017-10-12</td>\n",
       "    </tr>\n",
       "    <tr>\n",
       "      <th>18375</th>\n",
       "      <td>smiteworks usa, llc</td>\n",
       "      <td>fantasy grounds - fantastic far east (token pack)</td>\n",
       "      <td>4.99</td>\n",
       "      <td>2017-04-03</td>\n",
       "    </tr>\n",
       "    <tr>\n",
       "      <th>7362</th>\n",
       "      <td>gritfish</td>\n",
       "      <td>killing time at lightspeed: enhanced edition o...</td>\n",
       "      <td>3.99</td>\n",
       "      <td>2016-09-27</td>\n",
       "    </tr>\n",
       "    <tr>\n",
       "      <th>12474</th>\n",
       "      <td>foreverloops gmbh</td>\n",
       "      <td>foreverloops</td>\n",
       "      <td>29.99</td>\n",
       "      <td>2017-11-27</td>\n",
       "    </tr>\n",
       "    <tr>\n",
       "      <th>5098</th>\n",
       "      <td>zinertek</td>\n",
       "      <td>fsx: steam edition - natural tree environment ...</td>\n",
       "      <td>11.99</td>\n",
       "      <td>2016-01-12</td>\n",
       "    </tr>\n",
       "    <tr>\n",
       "      <th>23288</th>\n",
       "      <td>michael howard</td>\n",
       "      <td>origin of destiny - donation #1</td>\n",
       "      <td>4.99</td>\n",
       "      <td>2016-05-05</td>\n",
       "    </tr>\n",
       "    <tr>\n",
       "      <th>20010</th>\n",
       "      <td>sharkbyte studio</td>\n",
       "      <td>ant-gravity: tiny's adventure</td>\n",
       "      <td>12.99</td>\n",
       "      <td>2016-12-15</td>\n",
       "    </tr>\n",
       "    <tr>\n",
       "      <th>18003</th>\n",
       "      <td>ronimo games</td>\n",
       "      <td>ted mcpain - awesomenauts character</td>\n",
       "      <td>4.99</td>\n",
       "      <td>2017-04-26</td>\n",
       "    </tr>\n",
       "    <tr>\n",
       "      <th>11842</th>\n",
       "      <td>smiteworks usa, llc</td>\n",
       "      <td>fantasy grounds - pathfinder rpg - hell's rebe...</td>\n",
       "      <td>24.99</td>\n",
       "      <td>2017-10-10</td>\n",
       "    </tr>\n",
       "  </tbody>\n",
       "</table>\n",
       "</div>"
      ],
      "text/plain": [
       "                 developer                                           app_name  \\\n",
       "7273          pinokl games                           party hard - dark castle   \n",
       "11876   boogygames studios                                       frontiers.io   \n",
       "18375  smiteworks usa, llc  fantasy grounds - fantastic far east (token pack)   \n",
       "7362              gritfish  killing time at lightspeed: enhanced edition o...   \n",
       "12474    foreverloops gmbh                                       foreverloops   \n",
       "5098              zinertek  fsx: steam edition - natural tree environment ...   \n",
       "23288       michael howard                    origin of destiny - donation #1   \n",
       "20010     sharkbyte studio                      ant-gravity: tiny's adventure   \n",
       "18003         ronimo games                ted mcpain - awesomenauts character   \n",
       "11842  smiteworks usa, llc  fantasy grounds - pathfinder rpg - hell's rebe...   \n",
       "\n",
       "       price release_date  \n",
       "7273    0.00   2016-09-16  \n",
       "11876   0.99   2017-10-12  \n",
       "18375   4.99   2017-04-03  \n",
       "7362    3.99   2016-09-27  \n",
       "12474  29.99   2017-11-27  \n",
       "5098   11.99   2016-01-12  \n",
       "23288   4.99   2016-05-05  \n",
       "20010  12.99   2016-12-15  \n",
       "18003   4.99   2017-04-26  \n",
       "11842  24.99   2017-10-10  "
      ]
     },
     "execution_count": 168,
     "metadata": {},
     "output_type": "execute_result"
    }
   ],
   "source": [
    "df_developer=df_games[['developer','app_name','price','release_date']].dropna(subset='release_date')\n",
    "df_developer.sample(10)"
   ]
  },
  {
   "cell_type": "code",
   "execution_count": 169,
   "metadata": {},
   "outputs": [],
   "source": [
    "df_developer['year']=df_developer['release_date'].str.extract(r'(\\d{4})')\n",
    "df_developer=df_developer.dropna(subset='year').drop(columns='release_date')"
   ]
  },
  {
   "cell_type": "code",
   "execution_count": 170,
   "metadata": {},
   "outputs": [
    {
     "data": {
      "text/html": [
       "<div>\n",
       "<style scoped>\n",
       "    .dataframe tbody tr th:only-of-type {\n",
       "        vertical-align: middle;\n",
       "    }\n",
       "\n",
       "    .dataframe tbody tr th {\n",
       "        vertical-align: top;\n",
       "    }\n",
       "\n",
       "    .dataframe thead th {\n",
       "        text-align: right;\n",
       "    }\n",
       "</style>\n",
       "<table border=\"1\" class=\"dataframe\">\n",
       "  <thead>\n",
       "    <tr style=\"text-align: right;\">\n",
       "      <th></th>\n",
       "      <th>developer</th>\n",
       "      <th>app_name</th>\n",
       "      <th>price</th>\n",
       "      <th>year</th>\n",
       "    </tr>\n",
       "  </thead>\n",
       "  <tbody>\n",
       "    <tr>\n",
       "      <th>1692</th>\n",
       "      <td>jackbox games, inc.</td>\n",
       "      <td>you don't know jack television</td>\n",
       "      <td>2.99</td>\n",
       "      <td>1997</td>\n",
       "    </tr>\n",
       "    <tr>\n",
       "      <th>7598</th>\n",
       "      <td>blind bird</td>\n",
       "      <td>stay close</td>\n",
       "      <td>8.99</td>\n",
       "      <td>2016</td>\n",
       "    </tr>\n",
       "    <tr>\n",
       "      <th>28341</th>\n",
       "      <td>sarepta studio</td>\n",
       "      <td>shadow puppeteer</td>\n",
       "      <td>14.99</td>\n",
       "      <td>2014</td>\n",
       "    </tr>\n",
       "  </tbody>\n",
       "</table>\n",
       "</div>"
      ],
      "text/plain": [
       "                 developer                        app_name  price  year\n",
       "1692   jackbox games, inc.  you don't know jack television   2.99  1997\n",
       "7598            blind bird                      stay close   8.99  2016\n",
       "28341       sarepta studio                shadow puppeteer  14.99  2014"
      ]
     },
     "execution_count": 170,
     "metadata": {},
     "output_type": "execute_result"
    }
   ],
   "source": [
    "df_developer.sample(3)"
   ]
  },
  {
   "cell_type": "code",
   "execution_count": 172,
   "metadata": {},
   "outputs": [],
   "source": [
    "df_developer.to_csv('df_developer.csv', index=False)"
   ]
  },
  {
   "cell_type": "code",
   "execution_count": 173,
   "metadata": {},
   "outputs": [
    {
     "data": {
      "text/plain": [
       "29966"
      ]
     },
     "execution_count": 173,
     "metadata": {},
     "output_type": "execute_result"
    }
   ],
   "source": [
    "len(df_developer)"
   ]
  },
  {
   "cell_type": "markdown",
   "metadata": {},
   "source": [
    "# creacion de funcion developer"
   ]
  },
  {
   "cell_type": "code",
   "execution_count": 33,
   "metadata": {},
   "outputs": [],
   "source": [
    "df_developer=pd.read_csv('df_developer.csv')"
   ]
  },
  {
   "cell_type": "code",
   "execution_count": 35,
   "metadata": {},
   "outputs": [],
   "source": [
    "def developer(desarrollador: str):\n",
    "    desarrollador=desarrollador\n",
    "    desarrollador_lower = desarrollador.lower()\n",
    "    df = df_developer.loc[df_developer['developer'] == f'{desarrollador_lower}'].sort_values('year')\n",
    "    df=df.drop_duplicates()\n",
    "    yearB = 0\n",
    "    dict_años = defaultdict(list)  # Changed the dictionary value type to list\n",
    "    items = 0\n",
    "    items_free=0\n",
    "    for index, row in df.iterrows():\n",
    "        year = row['year']\n",
    "        price = row['price']\n",
    "        if  year != yearB:\n",
    "            items = 0  # Restablece la cuenta de elementos si es un nuevo año\n",
    "            yearB = year\n",
    "            items_free=0\n",
    "              \n",
    "        if price == 0.00:\n",
    "            items_free+=1\n",
    "            dict_años[year] = [f'{items_free}', items] \n",
    "        else:\n",
    "            items += 1\n",
    "            dict_años[year] = [f'{items_free}', items]\n",
    "    texto=' Free content %'\n",
    "\n",
    "    df = pd.DataFrame(dict_años.values(), dict_años.keys()).rename(columns={0:f'{desarrollador}{texto}', 1: 'lanzamientos ese año'})\n",
    "    df[f'{desarrollador}{texto}']= round((pd.to_numeric(df[f'{desarrollador}{texto}']) / df['lanzamientos ese año']*100), 2)\n",
    "    return df"
   ]
  },
  {
   "cell_type": "code",
   "execution_count": 36,
   "metadata": {},
   "outputs": [],
   "source": [
    "Temp=developer('capcom')\n",
    "Temp"
   ]
  },
  {
   "cell_type": "markdown",
   "metadata": {},
   "source": [
    "### Sentiment"
   ]
  },
  {
   "cell_type": "code",
   "execution_count": null,
   "metadata": {},
   "outputs": [],
   "source": [
    "df_games"
   ]
  },
  {
   "cell_type": "code",
   "execution_count": 352,
   "metadata": {},
   "outputs": [],
   "source": [
    "df_sentiment_analysis=df_reviews.copy()\n",
    "df_sentiment_analysis=df_sentiment_analysis[['item_id','review']]\n",
    "df_sentiment_analysis['review']=df_sentiment_analysis['review'].fillna(1)"
   ]
  },
  {
   "cell_type": "code",
   "execution_count": 354,
   "metadata": {},
   "outputs": [],
   "source": [
    "df_sentiment_analysis=df_sentiment_analysis.dropna(subset='item_id')"
   ]
  },
  {
   "cell_type": "code",
   "execution_count": null,
   "metadata": {},
   "outputs": [],
   "source": [
    "df_sentiment_analysis"
   ]
  },
  {
   "cell_type": "code",
   "execution_count": 357,
   "metadata": {},
   "outputs": [],
   "source": [
    "id_to_release = df_games.dropna(subset='id').set_index('id')['release_date'].to_dict()"
   ]
  },
  {
   "cell_type": "code",
   "execution_count": 358,
   "metadata": {},
   "outputs": [],
   "source": [
    "def id_release(id):\n",
    "    return id_to_release.get(id,np.nan)"
   ]
  },
  {
   "cell_type": "code",
   "execution_count": 359,
   "metadata": {},
   "outputs": [],
   "source": [
    "df_sentiment_analysis['año_lanzamiento']=df_sentiment_analysis['item_id'].apply(id_release)"
   ]
  },
  {
   "cell_type": "code",
   "execution_count": 360,
   "metadata": {},
   "outputs": [],
   "source": [
    "df_sentiment_analysis['año_lanzamiento']=df_sentiment_analysis['año_lanzamiento'].str.extract(r'(\\d{4})')"
   ]
  },
  {
   "cell_type": "code",
   "execution_count": null,
   "metadata": {},
   "outputs": [],
   "source": [
    "df_sentiment_analysis"
   ]
  },
  {
   "cell_type": "code",
   "execution_count": 362,
   "metadata": {},
   "outputs": [],
   "source": [
    "df_sentiment_analysis=df_sentiment_analysis.groupby('año_lanzamiento')['review'].apply(list).reset_index()"
   ]
  },
  {
   "cell_type": "code",
   "execution_count": null,
   "metadata": {},
   "outputs": [],
   "source": [
    "df_sentiment_analysis.head()"
   ]
  },
  {
   "cell_type": "code",
   "execution_count": 364,
   "metadata": {},
   "outputs": [],
   "source": [
    "df_sentiment_analysis.to_csv('df_sentiment_analysis.csv', index=False)"
   ]
  },
  {
   "cell_type": "markdown",
   "metadata": {},
   "source": [
    "# Sentiment_analysis"
   ]
  },
  {
   "cell_type": "code",
   "execution_count": 38,
   "metadata": {},
   "outputs": [],
   "source": [
    "sentiment=pd.read_csv('df_sentiment_analysis.csv')"
   ]
  },
  {
   "cell_type": "code",
   "execution_count": 40,
   "metadata": {},
   "outputs": [],
   "source": [
    "def sentiment_analysis(año: int):\n",
    "    df = sentiment.copy()\n",
    "    filtered_df = df[df['año_lanzamiento'] == año]['review']\n",
    "    \n",
    "    if not filtered_df.empty:\n",
    "        positivo = filtered_df.iloc[0].count('2')\n",
    "        negativo = filtered_df.iloc[0].count('0')\n",
    "        neutro = filtered_df.iloc[0].count('1')\n",
    "        return f'Negative = {negativo}, Neutral = {neutro}, Positive = {positivo}'\n",
    "    else:\n",
    "        return 'No hay reseñas para este año de lanzamiento'"
   ]
  },
  {
   "cell_type": "code",
   "execution_count": 41,
   "metadata": {},
   "outputs": [
    {
     "data": {
      "text/plain": [
       "'Negative = 694, Neutral = 545, Positive = 1759'"
      ]
     },
     "execution_count": 41,
     "metadata": {},
     "output_type": "execute_result"
    }
   ],
   "source": [
    "Temp3=sentiment_analysis(2016)\n",
    "Temp3"
   ]
  },
  {
   "cell_type": "code",
   "execution_count": 196,
   "metadata": {},
   "outputs": [
    {
     "data": {
      "text/plain": [
       "44"
      ]
     },
     "execution_count": 196,
     "metadata": {},
     "output_type": "execute_result"
    }
   ],
   "source": [
    "positivo= df.count(2)\n",
    "positivo"
   ]
  }
 ],
 "metadata": {
  "kernelspec": {
   "display_name": "Python 3",
   "language": "python",
   "name": "python3"
  },
  "language_info": {
   "codemirror_mode": {
    "name": "ipython",
    "version": 3
   },
   "file_extension": ".py",
   "mimetype": "text/x-python",
   "name": "python",
   "nbconvert_exporter": "python",
   "pygments_lexer": "ipython3",
   "version": "3.11.4"
  },
  "orig_nbformat": 4
 },
 "nbformat": 4,
 "nbformat_minor": 2
}
